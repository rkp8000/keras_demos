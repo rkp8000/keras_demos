{
 "cells": [
  {
   "cell_type": "code",
   "execution_count": 1,
   "metadata": {},
   "outputs": [
    {
     "name": "stderr",
     "output_type": "stream",
     "text": [
      "Using TensorFlow backend.\n"
     ]
    },
    {
     "name": "stdout",
     "output_type": "stream",
     "text": [
      "Loading data...\n",
      "Downloading data from https://s3.amazonaws.com/text-datasets/imdb.npz\n",
      "17465344/17464789 [==============================] - 2s 0us/step\n",
      "25000 train sequences\n",
      "25000 test sequences\n",
      "Pad sequences (samples x time)\n",
      "x_train shape: (25000, 80)\n",
      "x_test shape: (25000, 80)\n",
      "Build model...\n",
      "Train...\n",
      "Train on 25000 samples, validate on 25000 samples\n",
      "Epoch 1/15\n",
      "25000/25000 [==============================] - 63s 3ms/step - loss: 0.4580 - acc: 0.7833 - val_loss: 0.3944 - val_acc: 0.8275\n",
      "Epoch 2/15\n",
      "25000/25000 [==============================] - 62s 2ms/step - loss: 0.2988 - acc: 0.8799 - val_loss: 0.3839 - val_acc: 0.8329\n",
      "Epoch 3/15\n",
      "25000/25000 [==============================] - 62s 2ms/step - loss: 0.2237 - acc: 0.9150 - val_loss: 0.4079 - val_acc: 0.8302\n",
      "Epoch 4/15\n",
      "25000/25000 [==============================] - 62s 2ms/step - loss: 0.1610 - acc: 0.9385 - val_loss: 0.4333 - val_acc: 0.8220\n",
      "Epoch 5/15\n",
      "25000/25000 [==============================] - 62s 2ms/step - loss: 0.1100 - acc: 0.9596 - val_loss: 0.5916 - val_acc: 0.8231\n",
      "Epoch 6/15\n",
      "25000/25000 [==============================] - 62s 2ms/step - loss: 0.0865 - acc: 0.9692 - val_loss: 0.5871 - val_acc: 0.8239\n",
      "Epoch 7/15\n",
      "25000/25000 [==============================] - 62s 2ms/step - loss: 0.0626 - acc: 0.9782 - val_loss: 0.7484 - val_acc: 0.8118\n",
      "Epoch 8/15\n",
      "25000/25000 [==============================] - 62s 2ms/step - loss: 0.0428 - acc: 0.9856 - val_loss: 0.7439 - val_acc: 0.8192\n",
      "Epoch 9/15\n",
      "25000/25000 [==============================] - 62s 2ms/step - loss: 0.0357 - acc: 0.9882 - val_loss: 0.8444 - val_acc: 0.8184\n",
      "Epoch 10/15\n",
      "25000/25000 [==============================] - 62s 2ms/step - loss: 0.0220 - acc: 0.9936 - val_loss: 0.9742 - val_acc: 0.8162\n",
      "Epoch 11/15\n",
      "25000/25000 [==============================] - 62s 2ms/step - loss: 0.0247 - acc: 0.9916 - val_loss: 0.8796 - val_acc: 0.8195\n",
      "Epoch 12/15\n",
      "25000/25000 [==============================] - 62s 2ms/step - loss: 0.0180 - acc: 0.9944 - val_loss: 1.1015 - val_acc: 0.8122\n",
      "Epoch 13/15\n",
      "25000/25000 [==============================] - 62s 2ms/step - loss: 0.0148 - acc: 0.9958 - val_loss: 1.0878 - val_acc: 0.8145\n",
      "Epoch 14/15\n",
      "25000/25000 [==============================] - 62s 2ms/step - loss: 0.0113 - acc: 0.9967 - val_loss: 1.0367 - val_acc: 0.8112\n",
      "Epoch 15/15\n",
      "25000/25000 [==============================] - 62s 2ms/step - loss: 0.0097 - acc: 0.9974 - val_loss: 1.1742 - val_acc: 0.8083\n",
      "25000/25000 [==============================] - 11s 448us/step\n",
      "Test score: 1.17423491659\n",
      "Test accuracy: 0.80828\n"
     ]
    }
   ],
   "source": [
    "'''Trains an LSTM model on the IMDB sentiment classification task.\n",
    "The dataset is actually too small for LSTM to be of any advantage\n",
    "compared to simpler, much faster methods such as TF-IDF + LogReg.\n",
    "# Notes\n",
    "- RNNs are tricky. Choice of batch size is important,\n",
    "choice of loss and optimizer is critical, etc.\n",
    "Some configurations won't converge.\n",
    "- LSTM loss decrease patterns during training can be quite different\n",
    "from what you see with CNNs/MLPs/etc.\n",
    "'''\n",
    "from keras.preprocessing import sequence\n",
    "from keras.models import Sequential\n",
    "from keras.layers import Dense, Embedding\n",
    "from keras.layers import LSTM\n",
    "from keras.datasets import imdb\n",
    "\n",
    "max_features = 20000\n",
    "maxlen = 80  # cut texts after this number of words (among top max_features most common words)\n",
    "batch_size = 32\n",
    "\n",
    "print('Loading data...')\n",
    "(x_train, y_train), (x_test, y_test) = imdb.load_data(num_words=max_features)\n",
    "print(len(x_train), 'train sequences')\n",
    "print(len(x_test), 'test sequences')\n",
    "\n",
    "print('Pad sequences (samples x time)')\n",
    "x_train = sequence.pad_sequences(x_train, maxlen=maxlen)\n",
    "x_test = sequence.pad_sequences(x_test, maxlen=maxlen)\n",
    "print('x_train shape:', x_train.shape)\n",
    "print('x_test shape:', x_test.shape)\n",
    "\n",
    "print('Build model...')\n",
    "model = Sequential()\n",
    "model.add(Embedding(max_features, 128))\n",
    "model.add(LSTM(128, dropout=0.2, recurrent_dropout=0.2))\n",
    "model.add(Dense(1, activation='sigmoid'))\n",
    "\n",
    "# try using different optimizers and different optimizer configs\n",
    "model.compile(loss='binary_crossentropy',\n",
    "              optimizer='adam',\n",
    "              metrics=['accuracy'])\n",
    "\n",
    "print('Train...')\n",
    "model.fit(x_train, y_train,\n",
    "          batch_size=batch_size,\n",
    "          epochs=15,\n",
    "          validation_data=(x_test, y_test))\n",
    "score, acc = model.evaluate(x_test, y_test,\n",
    "                            batch_size=batch_size)\n",
    "print('Test score:', score)\n",
    "print('Test accuracy:', acc)"
   ]
  }
 ],
 "metadata": {
  "kernelspec": {
   "display_name": "Python 3",
   "language": "python",
   "name": "python3"
  },
  "language_info": {
   "codemirror_mode": {
    "name": "ipython",
    "version": 3
   },
   "file_extension": ".py",
   "mimetype": "text/x-python",
   "name": "python",
   "nbconvert_exporter": "python",
   "pygments_lexer": "ipython3",
   "version": "3.5.2"
  },
  "widgets": {
   "state": {},
   "version": "1.1.2"
  }
 },
 "nbformat": 4,
 "nbformat_minor": 2
}
